{
 "cells": [
  {
   "cell_type": "code",
   "execution_count": 57,
   "metadata": {},
   "outputs": [],
   "source": [
    "import pandas as pd\n",
    "import numpy as np\n",
    "import matplotlib.pyplot as plt\n",
    "import seaborn as sns\n",
    "import string\n",
    "import re\n",
    "import nltk\n",
    "from sklearn.preprocessing import OneHotEncoder\n",
    "from sklearn.model_selection import train_test_split\n",
    "from sklearn.pipeline import make_pipeline\n",
    "from sklearn.compose import make_column_transformer\n",
    "from sklearn.feature_extraction.text import CountVectorizer\n",
    "from sklearn.tree import DecisionTreeRegressor\n",
    "from sklearn.model_selection import cross_val_score\n",
    "from sklearn.metrics import confusion_matrix\n",
    "from sklearn.naive_bayes import MultinomialNB\n",
    "from sklearn.ensemble import RandomForestRegressor\n",
    "from sklearn.metrics import accuracy_score\n",
    "from sklearn.metrics import classification_report"
   ]
  },
  {
   "cell_type": "markdown",
   "metadata": {},
   "source": [
    "#### Just testing"
   ]
  },
  {
   "cell_type": "markdown",
   "metadata": {},
   "source": [
    "--------------------------------------------------------------------------------------------"
   ]
  },
  {
   "cell_type": "code",
   "execution_count": 2,
   "metadata": {},
   "outputs": [],
   "source": [
    "# df=pd.read_json('yelp_training_set_review.json',lines=True)\n",
    "# df"
   ]
  },
  {
   "cell_type": "code",
   "execution_count": 3,
   "metadata": {},
   "outputs": [],
   "source": [
    "# d1=list(df['votes'])\n",
    "# pd.DataFrame(d1)"
   ]
  },
  {
   "cell_type": "markdown",
   "metadata": {},
   "source": [
    "--------------------------------------------------------------------------------------------------"
   ]
  },
  {
   "cell_type": "code",
   "execution_count": 4,
   "metadata": {},
   "outputs": [],
   "source": [
    "df=pd.read_csv('yelp.csv')"
   ]
  },
  {
   "cell_type": "code",
   "execution_count": 5,
   "metadata": {},
   "outputs": [
    {
     "data": {
      "text/html": [
       "<div>\n",
       "<style scoped>\n",
       "    .dataframe tbody tr th:only-of-type {\n",
       "        vertical-align: middle;\n",
       "    }\n",
       "\n",
       "    .dataframe tbody tr th {\n",
       "        vertical-align: top;\n",
       "    }\n",
       "\n",
       "    .dataframe thead th {\n",
       "        text-align: right;\n",
       "    }\n",
       "</style>\n",
       "<table border=\"1\" class=\"dataframe\">\n",
       "  <thead>\n",
       "    <tr style=\"text-align: right;\">\n",
       "      <th></th>\n",
       "      <th>business_id</th>\n",
       "      <th>date</th>\n",
       "      <th>review_id</th>\n",
       "      <th>stars</th>\n",
       "      <th>text</th>\n",
       "      <th>type</th>\n",
       "      <th>user_id</th>\n",
       "      <th>cool</th>\n",
       "      <th>useful</th>\n",
       "      <th>funny</th>\n",
       "    </tr>\n",
       "  </thead>\n",
       "  <tbody>\n",
       "    <tr>\n",
       "      <th>0</th>\n",
       "      <td>9yKzy9PApeiPPOUJEtnvkg</td>\n",
       "      <td>2011-01-26</td>\n",
       "      <td>fWKvX83p0-ka4JS3dc6E5A</td>\n",
       "      <td>5</td>\n",
       "      <td>My wife took me here on my birthday for breakf...</td>\n",
       "      <td>review</td>\n",
       "      <td>rLtl8ZkDX5vH5nAx9C3q5Q</td>\n",
       "      <td>2</td>\n",
       "      <td>5</td>\n",
       "      <td>0</td>\n",
       "    </tr>\n",
       "    <tr>\n",
       "      <th>1</th>\n",
       "      <td>ZRJwVLyzEJq1VAihDhYiow</td>\n",
       "      <td>2011-07-27</td>\n",
       "      <td>IjZ33sJrzXqU-0X6U8NwyA</td>\n",
       "      <td>5</td>\n",
       "      <td>I have no idea why some people give bad review...</td>\n",
       "      <td>review</td>\n",
       "      <td>0a2KyEL0d3Yb1V6aivbIuQ</td>\n",
       "      <td>0</td>\n",
       "      <td>0</td>\n",
       "      <td>0</td>\n",
       "    </tr>\n",
       "    <tr>\n",
       "      <th>2</th>\n",
       "      <td>6oRAC4uyJCsJl1X0WZpVSA</td>\n",
       "      <td>2012-06-14</td>\n",
       "      <td>IESLBzqUCLdSzSqm0eCSxQ</td>\n",
       "      <td>4</td>\n",
       "      <td>love the gyro plate. Rice is so good and I als...</td>\n",
       "      <td>review</td>\n",
       "      <td>0hT2KtfLiobPvh6cDC8JQg</td>\n",
       "      <td>0</td>\n",
       "      <td>1</td>\n",
       "      <td>0</td>\n",
       "    </tr>\n",
       "    <tr>\n",
       "      <th>3</th>\n",
       "      <td>_1QQZuf4zZOyFCvXc0o6Vg</td>\n",
       "      <td>2010-05-27</td>\n",
       "      <td>G-WvGaISbqqaMHlNnByodA</td>\n",
       "      <td>5</td>\n",
       "      <td>Rosie, Dakota, and I LOVE Chaparral Dog Park!!...</td>\n",
       "      <td>review</td>\n",
       "      <td>uZetl9T0NcROGOyFfughhg</td>\n",
       "      <td>1</td>\n",
       "      <td>2</td>\n",
       "      <td>0</td>\n",
       "    </tr>\n",
       "    <tr>\n",
       "      <th>4</th>\n",
       "      <td>6ozycU1RpktNG2-1BroVtw</td>\n",
       "      <td>2012-01-05</td>\n",
       "      <td>1uJFq2r5QfJG_6ExMRCaGw</td>\n",
       "      <td>5</td>\n",
       "      <td>General Manager Scott Petello is a good egg!!!...</td>\n",
       "      <td>review</td>\n",
       "      <td>vYmM4KTsC8ZfQBg-j5MWkw</td>\n",
       "      <td>0</td>\n",
       "      <td>0</td>\n",
       "      <td>0</td>\n",
       "    </tr>\n",
       "  </tbody>\n",
       "</table>\n",
       "</div>"
      ],
      "text/plain": [
       "              business_id        date               review_id  stars  \\\n",
       "0  9yKzy9PApeiPPOUJEtnvkg  2011-01-26  fWKvX83p0-ka4JS3dc6E5A      5   \n",
       "1  ZRJwVLyzEJq1VAihDhYiow  2011-07-27  IjZ33sJrzXqU-0X6U8NwyA      5   \n",
       "2  6oRAC4uyJCsJl1X0WZpVSA  2012-06-14  IESLBzqUCLdSzSqm0eCSxQ      4   \n",
       "3  _1QQZuf4zZOyFCvXc0o6Vg  2010-05-27  G-WvGaISbqqaMHlNnByodA      5   \n",
       "4  6ozycU1RpktNG2-1BroVtw  2012-01-05  1uJFq2r5QfJG_6ExMRCaGw      5   \n",
       "\n",
       "                                                text    type  \\\n",
       "0  My wife took me here on my birthday for breakf...  review   \n",
       "1  I have no idea why some people give bad review...  review   \n",
       "2  love the gyro plate. Rice is so good and I als...  review   \n",
       "3  Rosie, Dakota, and I LOVE Chaparral Dog Park!!...  review   \n",
       "4  General Manager Scott Petello is a good egg!!!...  review   \n",
       "\n",
       "                  user_id  cool  useful  funny  \n",
       "0  rLtl8ZkDX5vH5nAx9C3q5Q     2       5      0  \n",
       "1  0a2KyEL0d3Yb1V6aivbIuQ     0       0      0  \n",
       "2  0hT2KtfLiobPvh6cDC8JQg     0       1      0  \n",
       "3  uZetl9T0NcROGOyFfughhg     1       2      0  \n",
       "4  vYmM4KTsC8ZfQBg-j5MWkw     0       0      0  "
      ]
     },
     "execution_count": 5,
     "metadata": {},
     "output_type": "execute_result"
    }
   ],
   "source": [
    "df.head()"
   ]
  },
  {
   "cell_type": "code",
   "execution_count": 6,
   "metadata": {},
   "outputs": [
    {
     "data": {
      "text/plain": [
       "(10000, 10)"
      ]
     },
     "execution_count": 6,
     "metadata": {},
     "output_type": "execute_result"
    }
   ],
   "source": [
    "df.shape"
   ]
  },
  {
   "cell_type": "markdown",
   "metadata": {},
   "source": [
    "### Splitting date column to year and month column"
   ]
  },
  {
   "cell_type": "code",
   "execution_count": 7,
   "metadata": {},
   "outputs": [],
   "source": [
    "date_time=pd.to_datetime(df['date'])"
   ]
  },
  {
   "cell_type": "code",
   "execution_count": 8,
   "metadata": {},
   "outputs": [],
   "source": [
    "month_obt=[]\n",
    "year_obt=[]\n",
    "for i in date_time:\n",
    "    month_obt.append(i.month)\n",
    "    year_obt.append(i.year)"
   ]
  },
  {
   "cell_type": "code",
   "execution_count": 9,
   "metadata": {},
   "outputs": [],
   "source": [
    "df['month']=month_obt\n",
    "df['year']=year_obt"
   ]
  },
  {
   "cell_type": "code",
   "execution_count": 10,
   "metadata": {},
   "outputs": [
    {
     "data": {
      "text/html": [
       "<div>\n",
       "<style scoped>\n",
       "    .dataframe tbody tr th:only-of-type {\n",
       "        vertical-align: middle;\n",
       "    }\n",
       "\n",
       "    .dataframe tbody tr th {\n",
       "        vertical-align: top;\n",
       "    }\n",
       "\n",
       "    .dataframe thead th {\n",
       "        text-align: right;\n",
       "    }\n",
       "</style>\n",
       "<table border=\"1\" class=\"dataframe\">\n",
       "  <thead>\n",
       "    <tr style=\"text-align: right;\">\n",
       "      <th></th>\n",
       "      <th>business_id</th>\n",
       "      <th>date</th>\n",
       "      <th>review_id</th>\n",
       "      <th>stars</th>\n",
       "      <th>text</th>\n",
       "      <th>type</th>\n",
       "      <th>user_id</th>\n",
       "      <th>cool</th>\n",
       "      <th>useful</th>\n",
       "      <th>funny</th>\n",
       "      <th>month</th>\n",
       "      <th>year</th>\n",
       "    </tr>\n",
       "  </thead>\n",
       "  <tbody>\n",
       "    <tr>\n",
       "      <th>0</th>\n",
       "      <td>9yKzy9PApeiPPOUJEtnvkg</td>\n",
       "      <td>2011-01-26</td>\n",
       "      <td>fWKvX83p0-ka4JS3dc6E5A</td>\n",
       "      <td>5</td>\n",
       "      <td>My wife took me here on my birthday for breakf...</td>\n",
       "      <td>review</td>\n",
       "      <td>rLtl8ZkDX5vH5nAx9C3q5Q</td>\n",
       "      <td>2</td>\n",
       "      <td>5</td>\n",
       "      <td>0</td>\n",
       "      <td>1</td>\n",
       "      <td>2011</td>\n",
       "    </tr>\n",
       "    <tr>\n",
       "      <th>1</th>\n",
       "      <td>ZRJwVLyzEJq1VAihDhYiow</td>\n",
       "      <td>2011-07-27</td>\n",
       "      <td>IjZ33sJrzXqU-0X6U8NwyA</td>\n",
       "      <td>5</td>\n",
       "      <td>I have no idea why some people give bad review...</td>\n",
       "      <td>review</td>\n",
       "      <td>0a2KyEL0d3Yb1V6aivbIuQ</td>\n",
       "      <td>0</td>\n",
       "      <td>0</td>\n",
       "      <td>0</td>\n",
       "      <td>7</td>\n",
       "      <td>2011</td>\n",
       "    </tr>\n",
       "    <tr>\n",
       "      <th>2</th>\n",
       "      <td>6oRAC4uyJCsJl1X0WZpVSA</td>\n",
       "      <td>2012-06-14</td>\n",
       "      <td>IESLBzqUCLdSzSqm0eCSxQ</td>\n",
       "      <td>4</td>\n",
       "      <td>love the gyro plate. Rice is so good and I als...</td>\n",
       "      <td>review</td>\n",
       "      <td>0hT2KtfLiobPvh6cDC8JQg</td>\n",
       "      <td>0</td>\n",
       "      <td>1</td>\n",
       "      <td>0</td>\n",
       "      <td>6</td>\n",
       "      <td>2012</td>\n",
       "    </tr>\n",
       "    <tr>\n",
       "      <th>3</th>\n",
       "      <td>_1QQZuf4zZOyFCvXc0o6Vg</td>\n",
       "      <td>2010-05-27</td>\n",
       "      <td>G-WvGaISbqqaMHlNnByodA</td>\n",
       "      <td>5</td>\n",
       "      <td>Rosie, Dakota, and I LOVE Chaparral Dog Park!!...</td>\n",
       "      <td>review</td>\n",
       "      <td>uZetl9T0NcROGOyFfughhg</td>\n",
       "      <td>1</td>\n",
       "      <td>2</td>\n",
       "      <td>0</td>\n",
       "      <td>5</td>\n",
       "      <td>2010</td>\n",
       "    </tr>\n",
       "    <tr>\n",
       "      <th>4</th>\n",
       "      <td>6ozycU1RpktNG2-1BroVtw</td>\n",
       "      <td>2012-01-05</td>\n",
       "      <td>1uJFq2r5QfJG_6ExMRCaGw</td>\n",
       "      <td>5</td>\n",
       "      <td>General Manager Scott Petello is a good egg!!!...</td>\n",
       "      <td>review</td>\n",
       "      <td>vYmM4KTsC8ZfQBg-j5MWkw</td>\n",
       "      <td>0</td>\n",
       "      <td>0</td>\n",
       "      <td>0</td>\n",
       "      <td>1</td>\n",
       "      <td>2012</td>\n",
       "    </tr>\n",
       "  </tbody>\n",
       "</table>\n",
       "</div>"
      ],
      "text/plain": [
       "              business_id        date               review_id  stars  \\\n",
       "0  9yKzy9PApeiPPOUJEtnvkg  2011-01-26  fWKvX83p0-ka4JS3dc6E5A      5   \n",
       "1  ZRJwVLyzEJq1VAihDhYiow  2011-07-27  IjZ33sJrzXqU-0X6U8NwyA      5   \n",
       "2  6oRAC4uyJCsJl1X0WZpVSA  2012-06-14  IESLBzqUCLdSzSqm0eCSxQ      4   \n",
       "3  _1QQZuf4zZOyFCvXc0o6Vg  2010-05-27  G-WvGaISbqqaMHlNnByodA      5   \n",
       "4  6ozycU1RpktNG2-1BroVtw  2012-01-05  1uJFq2r5QfJG_6ExMRCaGw      5   \n",
       "\n",
       "                                                text    type  \\\n",
       "0  My wife took me here on my birthday for breakf...  review   \n",
       "1  I have no idea why some people give bad review...  review   \n",
       "2  love the gyro plate. Rice is so good and I als...  review   \n",
       "3  Rosie, Dakota, and I LOVE Chaparral Dog Park!!...  review   \n",
       "4  General Manager Scott Petello is a good egg!!!...  review   \n",
       "\n",
       "                  user_id  cool  useful  funny  month  year  \n",
       "0  rLtl8ZkDX5vH5nAx9C3q5Q     2       5      0      1  2011  \n",
       "1  0a2KyEL0d3Yb1V6aivbIuQ     0       0      0      7  2011  \n",
       "2  0hT2KtfLiobPvh6cDC8JQg     0       1      0      6  2012  \n",
       "3  uZetl9T0NcROGOyFfughhg     1       2      0      5  2010  \n",
       "4  vYmM4KTsC8ZfQBg-j5MWkw     0       0      0      1  2012  "
      ]
     },
     "execution_count": 10,
     "metadata": {},
     "output_type": "execute_result"
    }
   ],
   "source": [
    "df.head(5)"
   ]
  },
  {
   "cell_type": "code",
   "execution_count": 11,
   "metadata": {},
   "outputs": [
    {
     "data": {
      "text/html": [
       "<div>\n",
       "<style scoped>\n",
       "    .dataframe tbody tr th:only-of-type {\n",
       "        vertical-align: middle;\n",
       "    }\n",
       "\n",
       "    .dataframe tbody tr th {\n",
       "        vertical-align: top;\n",
       "    }\n",
       "\n",
       "    .dataframe thead th {\n",
       "        text-align: right;\n",
       "    }\n",
       "</style>\n",
       "<table border=\"1\" class=\"dataframe\">\n",
       "  <thead>\n",
       "    <tr style=\"text-align: right;\">\n",
       "      <th></th>\n",
       "      <th>stars</th>\n",
       "      <th>cool</th>\n",
       "      <th>useful</th>\n",
       "      <th>funny</th>\n",
       "      <th>month</th>\n",
       "      <th>year</th>\n",
       "    </tr>\n",
       "  </thead>\n",
       "  <tbody>\n",
       "    <tr>\n",
       "      <th>count</th>\n",
       "      <td>10000.000000</td>\n",
       "      <td>10000.000000</td>\n",
       "      <td>10000.000000</td>\n",
       "      <td>10000.000000</td>\n",
       "      <td>10000.000000</td>\n",
       "      <td>10000.000000</td>\n",
       "    </tr>\n",
       "    <tr>\n",
       "      <th>mean</th>\n",
       "      <td>3.777500</td>\n",
       "      <td>0.876800</td>\n",
       "      <td>1.409300</td>\n",
       "      <td>0.701300</td>\n",
       "      <td>6.408900</td>\n",
       "      <td>2010.520100</td>\n",
       "    </tr>\n",
       "    <tr>\n",
       "      <th>std</th>\n",
       "      <td>1.214636</td>\n",
       "      <td>2.067861</td>\n",
       "      <td>2.336647</td>\n",
       "      <td>1.907942</td>\n",
       "      <td>3.433756</td>\n",
       "      <td>1.429406</td>\n",
       "    </tr>\n",
       "    <tr>\n",
       "      <th>min</th>\n",
       "      <td>1.000000</td>\n",
       "      <td>0.000000</td>\n",
       "      <td>0.000000</td>\n",
       "      <td>0.000000</td>\n",
       "      <td>1.000000</td>\n",
       "      <td>2005.000000</td>\n",
       "    </tr>\n",
       "    <tr>\n",
       "      <th>25%</th>\n",
       "      <td>3.000000</td>\n",
       "      <td>0.000000</td>\n",
       "      <td>0.000000</td>\n",
       "      <td>0.000000</td>\n",
       "      <td>3.000000</td>\n",
       "      <td>2010.000000</td>\n",
       "    </tr>\n",
       "    <tr>\n",
       "      <th>50%</th>\n",
       "      <td>4.000000</td>\n",
       "      <td>0.000000</td>\n",
       "      <td>1.000000</td>\n",
       "      <td>0.000000</td>\n",
       "      <td>6.000000</td>\n",
       "      <td>2011.000000</td>\n",
       "    </tr>\n",
       "    <tr>\n",
       "      <th>75%</th>\n",
       "      <td>5.000000</td>\n",
       "      <td>1.000000</td>\n",
       "      <td>2.000000</td>\n",
       "      <td>1.000000</td>\n",
       "      <td>9.000000</td>\n",
       "      <td>2012.000000</td>\n",
       "    </tr>\n",
       "    <tr>\n",
       "      <th>max</th>\n",
       "      <td>5.000000</td>\n",
       "      <td>77.000000</td>\n",
       "      <td>76.000000</td>\n",
       "      <td>57.000000</td>\n",
       "      <td>12.000000</td>\n",
       "      <td>2013.000000</td>\n",
       "    </tr>\n",
       "  </tbody>\n",
       "</table>\n",
       "</div>"
      ],
      "text/plain": [
       "              stars          cool        useful         funny         month  \\\n",
       "count  10000.000000  10000.000000  10000.000000  10000.000000  10000.000000   \n",
       "mean       3.777500      0.876800      1.409300      0.701300      6.408900   \n",
       "std        1.214636      2.067861      2.336647      1.907942      3.433756   \n",
       "min        1.000000      0.000000      0.000000      0.000000      1.000000   \n",
       "25%        3.000000      0.000000      0.000000      0.000000      3.000000   \n",
       "50%        4.000000      0.000000      1.000000      0.000000      6.000000   \n",
       "75%        5.000000      1.000000      2.000000      1.000000      9.000000   \n",
       "max        5.000000     77.000000     76.000000     57.000000     12.000000   \n",
       "\n",
       "               year  \n",
       "count  10000.000000  \n",
       "mean    2010.520100  \n",
       "std        1.429406  \n",
       "min     2005.000000  \n",
       "25%     2010.000000  \n",
       "50%     2011.000000  \n",
       "75%     2012.000000  \n",
       "max     2013.000000  "
      ]
     },
     "execution_count": 11,
     "metadata": {},
     "output_type": "execute_result"
    }
   ],
   "source": [
    "df.describe()"
   ]
  },
  {
   "cell_type": "code",
   "execution_count": 12,
   "metadata": {},
   "outputs": [
    {
     "data": {
      "text/plain": [
       "2012    3025\n",
       "2011    2791\n",
       "2010    1852\n",
       "2009    1171\n",
       "2008     765\n",
       "2007     285\n",
       "2006      55\n",
       "2013      52\n",
       "2005       4\n",
       "Name: year, dtype: int64"
      ]
     },
     "execution_count": 12,
     "metadata": {},
     "output_type": "execute_result"
    }
   ],
   "source": [
    "df['year'].value_counts()"
   ]
  },
  {
   "cell_type": "markdown",
   "metadata": {},
   "source": [
    "### Plotting different graphs for review star vs. year and month"
   ]
  },
  {
   "cell_type": "code",
   "execution_count": 13,
   "metadata": {},
   "outputs": [],
   "source": [
    "def review_star(data,star_val,fname,fname2):\n",
    "    r_year=data[data['stars']==star_val][fname].value_counts()\n",
    "    r_month=data[data['stars']==star_val][fname2].value_counts()\n",
    "    plt.figure(figsize=(14,5))\n",
    "    plt.subplot(1,2,1)\n",
    "    plt.title(str(star_val)+' star review vs '+str(fname))\n",
    "    r_year.plot(kind='bar')\n",
    "    plt.subplot(1,2,2)\n",
    "    plt.title(str(star_val)+' star review vs '+str(fname2))\n",
    "    r_month.plot(kind='bar')"
   ]
  },
  {
   "cell_type": "code",
   "execution_count": 14,
   "metadata": {},
   "outputs": [
    {
     "data": {
      "image/png": "[encoded data removed]",
      "text/plain": [
       "<Figure size 1008x360 with 2 Axes>"
      ]
     },
     "metadata": {
      "needs_background": "light"
     },
     "output_type": "display_data"
    }
   ],
   "source": [
    "review_star(df,1,'year','month')"
   ]
  },
  {
   "cell_type": "code",
   "execution_count": 15,
   "metadata": {},
   "outputs": [
    {
     "data": {
      "image/png": "[encoded data removed]",
      "text/plain": [
       "<Figure size 1008x360 with 2 Axes>"
      ]
     },
     "metadata": {
      "needs_background": "light"
     },
     "output_type": "display_data"
    }
   ],
   "source": [
    "review_star(df,2,'year','month')"
   ]
  },
  {
   "cell_type": "code",
   "execution_count": 16,
   "metadata": {},
   "outputs": [
    {
     "data": {
      "image/png": "[encoded data removed]",
      "text/plain": [
       "<Figure size 1008x360 with 2 Axes>"
      ]
     },
     "metadata": {
      "needs_background": "light"
     },
     "output_type": "display_data"
    }
   ],
   "source": [
    "review_star(df,3,'year','month')"
   ]
  },
  {
   "cell_type": "code",
   "execution_count": 17,
   "metadata": {},
   "outputs": [
    {
     "data": {
      "image/png": "[encoded data removed]",
      "text/plain": [
       "<Figure size 1008x360 with 2 Axes>"
      ]
     },
     "metadata": {
      "needs_background": "light"
     },
     "output_type": "display_data"
    }
   ],
   "source": [
    "review_star(df,4,'year','month')"
   ]
  },
  {
   "cell_type": "code",
   "execution_count": 18,
   "metadata": {},
   "outputs": [
    {
     "data": {
      "image/png": "[encoded data removed]",
      "text/plain": [
       "<Figure size 1008x360 with 2 Axes>"
      ]
     },
     "metadata": {
      "needs_background": "light"
     },
     "output_type": "display_data"
    }
   ],
   "source": [
    "review_star(df,5,'year','month')"
   ]
  },
  {
   "cell_type": "code",
   "execution_count": 19,
   "metadata": {},
   "outputs": [
    {
     "data": {
      "image/png": "[encoded data removed]",
      "text/plain": [
       "<Figure size 1008x360 with 2 Axes>"
      ]
     },
     "metadata": {
      "needs_background": "light"
     },
     "output_type": "display_data"
    }
   ],
   "source": [
    "review_star(df,5,'cool','useful')"
   ]
  },
  {
   "cell_type": "code",
   "execution_count": 20,
   "metadata": {},
   "outputs": [
    {
     "data": {
      "image/png": "[encoded data removed]",
      "text/plain": [
       "<Figure size 1008x360 with 2 Axes>"
      ]
     },
     "metadata": {
      "needs_background": "light"
     },
     "output_type": "display_data"
    }
   ],
   "source": [
    "review_star(df,5,'cool','funny')"
   ]
  },
  {
   "cell_type": "markdown",
   "metadata": {},
   "source": [
    "### Dropping some columns and checking null value"
   ]
  },
  {
   "cell_type": "code",
   "execution_count": 21,
   "metadata": {},
   "outputs": [
    {
     "data": {
      "text/html": [
       "<div>\n",
       "<style scoped>\n",
       "    .dataframe tbody tr th:only-of-type {\n",
       "        vertical-align: middle;\n",
       "    }\n",
       "\n",
       "    .dataframe tbody tr th {\n",
       "        vertical-align: top;\n",
       "    }\n",
       "\n",
       "    .dataframe thead th {\n",
       "        text-align: right;\n",
       "    }\n",
       "</style>\n",
       "<table border=\"1\" class=\"dataframe\">\n",
       "  <thead>\n",
       "    <tr style=\"text-align: right;\">\n",
       "      <th></th>\n",
       "      <th>business_id</th>\n",
       "      <th>date</th>\n",
       "      <th>review_id</th>\n",
       "      <th>stars</th>\n",
       "      <th>text</th>\n",
       "      <th>type</th>\n",
       "      <th>user_id</th>\n",
       "      <th>cool</th>\n",
       "      <th>useful</th>\n",
       "      <th>funny</th>\n",
       "      <th>month</th>\n",
       "      <th>year</th>\n",
       "    </tr>\n",
       "  </thead>\n",
       "  <tbody>\n",
       "    <tr>\n",
       "      <th>0</th>\n",
       "      <td>9yKzy9PApeiPPOUJEtnvkg</td>\n",
       "      <td>2011-01-26</td>\n",
       "      <td>fWKvX83p0-ka4JS3dc6E5A</td>\n",
       "      <td>5</td>\n",
       "      <td>My wife took me here on my birthday for breakf...</td>\n",
       "      <td>review</td>\n",
       "      <td>rLtl8ZkDX5vH5nAx9C3q5Q</td>\n",
       "      <td>2</td>\n",
       "      <td>5</td>\n",
       "      <td>0</td>\n",
       "      <td>1</td>\n",
       "      <td>2011</td>\n",
       "    </tr>\n",
       "    <tr>\n",
       "      <th>1</th>\n",
       "      <td>ZRJwVLyzEJq1VAihDhYiow</td>\n",
       "      <td>2011-07-27</td>\n",
       "      <td>IjZ33sJrzXqU-0X6U8NwyA</td>\n",
       "      <td>5</td>\n",
       "      <td>I have no idea why some people give bad review...</td>\n",
       "      <td>review</td>\n",
       "      <td>0a2KyEL0d3Yb1V6aivbIuQ</td>\n",
       "      <td>0</td>\n",
       "      <td>0</td>\n",
       "      <td>0</td>\n",
       "      <td>7</td>\n",
       "      <td>2011</td>\n",
       "    </tr>\n",
       "    <tr>\n",
       "      <th>2</th>\n",
       "      <td>6oRAC4uyJCsJl1X0WZpVSA</td>\n",
       "      <td>2012-06-14</td>\n",
       "      <td>IESLBzqUCLdSzSqm0eCSxQ</td>\n",
       "      <td>4</td>\n",
       "      <td>love the gyro plate. Rice is so good and I als...</td>\n",
       "      <td>review</td>\n",
       "      <td>0hT2KtfLiobPvh6cDC8JQg</td>\n",
       "      <td>0</td>\n",
       "      <td>1</td>\n",
       "      <td>0</td>\n",
       "      <td>6</td>\n",
       "      <td>2012</td>\n",
       "    </tr>\n",
       "  </tbody>\n",
       "</table>\n",
       "</div>"
      ],
      "text/plain": [
       "              business_id        date               review_id  stars  \\\n",
       "0  9yKzy9PApeiPPOUJEtnvkg  2011-01-26  fWKvX83p0-ka4JS3dc6E5A      5   \n",
       "1  ZRJwVLyzEJq1VAihDhYiow  2011-07-27  IjZ33sJrzXqU-0X6U8NwyA      5   \n",
       "2  6oRAC4uyJCsJl1X0WZpVSA  2012-06-14  IESLBzqUCLdSzSqm0eCSxQ      4   \n",
       "\n",
       "                                                text    type  \\\n",
       "0  My wife took me here on my birthday for breakf...  review   \n",
       "1  I have no idea why some people give bad review...  review   \n",
       "2  love the gyro plate. Rice is so good and I als...  review   \n",
       "\n",
       "                  user_id  cool  useful  funny  month  year  \n",
       "0  rLtl8ZkDX5vH5nAx9C3q5Q     2       5      0      1  2011  \n",
       "1  0a2KyEL0d3Yb1V6aivbIuQ     0       0      0      7  2011  \n",
       "2  0hT2KtfLiobPvh6cDC8JQg     0       1      0      6  2012  "
      ]
     },
     "execution_count": 21,
     "metadata": {},
     "output_type": "execute_result"
    }
   ],
   "source": [
    "df.head(3)"
   ]
  },
  {
   "cell_type": "code",
   "execution_count": 22,
   "metadata": {},
   "outputs": [],
   "source": [
    "df.drop(columns=['date','business_id','review_id','type','user_id'],inplace=True)"
   ]
  },
  {
   "cell_type": "code",
   "execution_count": 23,
   "metadata": {},
   "outputs": [
    {
     "data": {
      "text/plain": [
       "stars     0\n",
       "text      0\n",
       "cool      0\n",
       "useful    0\n",
       "funny     0\n",
       "month     0\n",
       "year      0\n",
       "dtype: int64"
      ]
     },
     "execution_count": 23,
     "metadata": {},
     "output_type": "execute_result"
    }
   ],
   "source": [
    "df.isnull().sum()"
   ]
  },
  {
   "cell_type": "code",
   "execution_count": 24,
   "metadata": {},
   "outputs": [
    {
     "data": {
      "text/html": [
       "<div>\n",
       "<style scoped>\n",
       "    .dataframe tbody tr th:only-of-type {\n",
       "        vertical-align: middle;\n",
       "    }\n",
       "\n",
       "    .dataframe tbody tr th {\n",
       "        vertical-align: top;\n",
       "    }\n",
       "\n",
       "    .dataframe thead th {\n",
       "        text-align: right;\n",
       "    }\n",
       "</style>\n",
       "<table border=\"1\" class=\"dataframe\">\n",
       "  <thead>\n",
       "    <tr style=\"text-align: right;\">\n",
       "      <th></th>\n",
       "      <th>stars</th>\n",
       "      <th>text</th>\n",
       "      <th>cool</th>\n",
       "      <th>useful</th>\n",
       "      <th>funny</th>\n",
       "      <th>month</th>\n",
       "      <th>year</th>\n",
       "    </tr>\n",
       "  </thead>\n",
       "  <tbody>\n",
       "    <tr>\n",
       "      <th>0</th>\n",
       "      <td>5</td>\n",
       "      <td>My wife took me here on my birthday for breakf...</td>\n",
       "      <td>2</td>\n",
       "      <td>5</td>\n",
       "      <td>0</td>\n",
       "      <td>1</td>\n",
       "      <td>2011</td>\n",
       "    </tr>\n",
       "    <tr>\n",
       "      <th>1</th>\n",
       "      <td>5</td>\n",
       "      <td>I have no idea why some people give bad review...</td>\n",
       "      <td>0</td>\n",
       "      <td>0</td>\n",
       "      <td>0</td>\n",
       "      <td>7</td>\n",
       "      <td>2011</td>\n",
       "    </tr>\n",
       "    <tr>\n",
       "      <th>2</th>\n",
       "      <td>4</td>\n",
       "      <td>love the gyro plate. Rice is so good and I als...</td>\n",
       "      <td>0</td>\n",
       "      <td>1</td>\n",
       "      <td>0</td>\n",
       "      <td>6</td>\n",
       "      <td>2012</td>\n",
       "    </tr>\n",
       "    <tr>\n",
       "      <th>3</th>\n",
       "      <td>5</td>\n",
       "      <td>Rosie, Dakota, and I LOVE Chaparral Dog Park!!...</td>\n",
       "      <td>1</td>\n",
       "      <td>2</td>\n",
       "      <td>0</td>\n",
       "      <td>5</td>\n",
       "      <td>2010</td>\n",
       "    </tr>\n",
       "    <tr>\n",
       "      <th>4</th>\n",
       "      <td>5</td>\n",
       "      <td>General Manager Scott Petello is a good egg!!!...</td>\n",
       "      <td>0</td>\n",
       "      <td>0</td>\n",
       "      <td>0</td>\n",
       "      <td>1</td>\n",
       "      <td>2012</td>\n",
       "    </tr>\n",
       "    <tr>\n",
       "      <th>...</th>\n",
       "      <td>...</td>\n",
       "      <td>...</td>\n",
       "      <td>...</td>\n",
       "      <td>...</td>\n",
       "      <td>...</td>\n",
       "      <td>...</td>\n",
       "      <td>...</td>\n",
       "    </tr>\n",
       "    <tr>\n",
       "      <th>9995</th>\n",
       "      <td>3</td>\n",
       "      <td>First visit...Had lunch here today - used my G...</td>\n",
       "      <td>1</td>\n",
       "      <td>2</td>\n",
       "      <td>0</td>\n",
       "      <td>7</td>\n",
       "      <td>2012</td>\n",
       "    </tr>\n",
       "    <tr>\n",
       "      <th>9996</th>\n",
       "      <td>4</td>\n",
       "      <td>Should be called house of deliciousness!\\n\\nI ...</td>\n",
       "      <td>0</td>\n",
       "      <td>0</td>\n",
       "      <td>0</td>\n",
       "      <td>1</td>\n",
       "      <td>2012</td>\n",
       "    </tr>\n",
       "    <tr>\n",
       "      <th>9997</th>\n",
       "      <td>4</td>\n",
       "      <td>I recently visited Olive and Ivy for business ...</td>\n",
       "      <td>0</td>\n",
       "      <td>0</td>\n",
       "      <td>0</td>\n",
       "      <td>11</td>\n",
       "      <td>2010</td>\n",
       "    </tr>\n",
       "    <tr>\n",
       "      <th>9998</th>\n",
       "      <td>2</td>\n",
       "      <td>My nephew just moved to Scottsdale recently so...</td>\n",
       "      <td>0</td>\n",
       "      <td>0</td>\n",
       "      <td>0</td>\n",
       "      <td>12</td>\n",
       "      <td>2012</td>\n",
       "    </tr>\n",
       "    <tr>\n",
       "      <th>9999</th>\n",
       "      <td>5</td>\n",
       "      <td>4-5 locations.. all 4.5 star average.. I think...</td>\n",
       "      <td>0</td>\n",
       "      <td>0</td>\n",
       "      <td>0</td>\n",
       "      <td>10</td>\n",
       "      <td>2010</td>\n",
       "    </tr>\n",
       "  </tbody>\n",
       "</table>\n",
       "<p>10000 rows × 7 columns</p>\n",
       "</div>"
      ],
      "text/plain": [
       "      stars                                               text  cool  useful  \\\n",
       "0         5  My wife took me here on my birthday for breakf...     2       5   \n",
       "1         5  I have no idea why some people give bad review...     0       0   \n",
       "2         4  love the gyro plate. Rice is so good and I als...     0       1   \n",
       "3         5  Rosie, Dakota, and I LOVE Chaparral Dog Park!!...     1       2   \n",
       "4         5  General Manager Scott Petello is a good egg!!!...     0       0   \n",
       "...     ...                                                ...   ...     ...   \n",
       "9995      3  First visit...Had lunch here today - used my G...     1       2   \n",
       "9996      4  Should be called house of deliciousness!\\n\\nI ...     0       0   \n",
       "9997      4  I recently visited Olive and Ivy for business ...     0       0   \n",
       "9998      2  My nephew just moved to Scottsdale recently so...     0       0   \n",
       "9999      5  4-5 locations.. all 4.5 star average.. I think...     0       0   \n",
       "\n",
       "      funny  month  year  \n",
       "0         0      1  2011  \n",
       "1         0      7  2011  \n",
       "2         0      6  2012  \n",
       "3         0      5  2010  \n",
       "4         0      1  2012  \n",
       "...     ...    ...   ...  \n",
       "9995      0      7  2012  \n",
       "9996      0      1  2012  \n",
       "9997      0     11  2010  \n",
       "9998      0     12  2012  \n",
       "9999      0     10  2010  \n",
       "\n",
       "[10000 rows x 7 columns]"
      ]
     },
     "execution_count": 24,
     "metadata": {},
     "output_type": "execute_result"
    }
   ],
   "source": [
    "df"
   ]
  },
  {
   "cell_type": "markdown",
   "metadata": {},
   "source": [
    "### Checking correlations of different columns with stars"
   ]
  },
  {
   "cell_type": "code",
   "execution_count": 25,
   "metadata": {},
   "outputs": [
    {
     "data": {
      "text/plain": [
       "<matplotlib.axes._subplots.AxesSubplot at 0x2163eba4cc8>"
      ]
     },
     "execution_count": 25,
     "metadata": {},
     "output_type": "execute_result"
    },
    {
     "data": {
      "image/png": "[encoded data removed]",
      "text/plain": [
       "<Figure size 504x504 with 2 Axes>"
      ]
     },
     "metadata": {
      "needs_background": "light"
     },
     "output_type": "display_data"
    }
   ],
   "source": [
    "first_corr=df.corr()\n",
    "plt.figure(figsize=(7,7))\n",
    "sns.heatmap(first_corr,annot=True)"
   ]
  },
  {
   "cell_type": "markdown",
   "metadata": {},
   "source": [
    "### Featurisation year and month columns "
   ]
  },
  {
   "cell_type": "code",
   "execution_count": 26,
   "metadata": {},
   "outputs": [
    {
     "data": {
      "text/plain": [
       "2012    3025\n",
       "2011    2791\n",
       "2010    1852\n",
       "2009    1171\n",
       "2008     765\n",
       "2007     285\n",
       "2006      55\n",
       "2013      52\n",
       "2005       4\n",
       "Name: year, dtype: int64"
      ]
     },
     "execution_count": 26,
     "metadata": {},
     "output_type": "execute_result"
    }
   ],
   "source": [
    "df['year'].value_counts()"
   ]
  },
  {
   "cell_type": "code",
   "execution_count": 27,
   "metadata": {},
   "outputs": [],
   "source": [
    "df['year']=df['year'].apply(lambda x:'old' if x <= 2008 else 'new')"
   ]
  },
  {
   "cell_type": "code",
   "execution_count": 28,
   "metadata": {},
   "outputs": [],
   "source": [
    "month_custom=[]\n",
    "month=df['month']\n",
    "for i in month:\n",
    "    if (i<=2 or i>=11):\n",
    "        month_custom.append('winter')\n",
    "    elif (i>2 and i<=7):\n",
    "        month_custom.append('summer')\n",
    "    else:\n",
    "        month_custom.append('automn')"
   ]
  },
  {
   "cell_type": "code",
   "execution_count": 29,
   "metadata": {},
   "outputs": [],
   "source": [
    "df['month']=month_custom"
   ]
  },
  {
   "cell_type": "code",
   "execution_count": 30,
   "metadata": {},
   "outputs": [
    {
     "data": {
      "text/html": [
       "<div>\n",
       "<style scoped>\n",
       "    .dataframe tbody tr th:only-of-type {\n",
       "        vertical-align: middle;\n",
       "    }\n",
       "\n",
       "    .dataframe tbody tr th {\n",
       "        vertical-align: top;\n",
       "    }\n",
       "\n",
       "    .dataframe thead th {\n",
       "        text-align: right;\n",
       "    }\n",
       "</style>\n",
       "<table border=\"1\" class=\"dataframe\">\n",
       "  <thead>\n",
       "    <tr style=\"text-align: right;\">\n",
       "      <th></th>\n",
       "      <th>stars</th>\n",
       "      <th>text</th>\n",
       "      <th>cool</th>\n",
       "      <th>useful</th>\n",
       "      <th>funny</th>\n",
       "      <th>month</th>\n",
       "      <th>year</th>\n",
       "    </tr>\n",
       "  </thead>\n",
       "  <tbody>\n",
       "    <tr>\n",
       "      <th>0</th>\n",
       "      <td>5</td>\n",
       "      <td>My wife took me here on my birthday for breakf...</td>\n",
       "      <td>2</td>\n",
       "      <td>5</td>\n",
       "      <td>0</td>\n",
       "      <td>winter</td>\n",
       "      <td>new</td>\n",
       "    </tr>\n",
       "    <tr>\n",
       "      <th>1</th>\n",
       "      <td>5</td>\n",
       "      <td>I have no idea why some people give bad review...</td>\n",
       "      <td>0</td>\n",
       "      <td>0</td>\n",
       "      <td>0</td>\n",
       "      <td>summer</td>\n",
       "      <td>new</td>\n",
       "    </tr>\n",
       "    <tr>\n",
       "      <th>2</th>\n",
       "      <td>4</td>\n",
       "      <td>love the gyro plate. Rice is so good and I als...</td>\n",
       "      <td>0</td>\n",
       "      <td>1</td>\n",
       "      <td>0</td>\n",
       "      <td>summer</td>\n",
       "      <td>new</td>\n",
       "    </tr>\n",
       "  </tbody>\n",
       "</table>\n",
       "</div>"
      ],
      "text/plain": [
       "   stars                                               text  cool  useful  \\\n",
       "0      5  My wife took me here on my birthday for breakf...     2       5   \n",
       "1      5  I have no idea why some people give bad review...     0       0   \n",
       "2      4  love the gyro plate. Rice is so good and I als...     0       1   \n",
       "\n",
       "   funny   month year  \n",
       "0      0  winter  new  \n",
       "1      0  summer  new  \n",
       "2      0  summer  new  "
      ]
     },
     "execution_count": 30,
     "metadata": {},
     "output_type": "execute_result"
    }
   ],
   "source": [
    "df.head(3)"
   ]
  },
  {
   "cell_type": "markdown",
   "metadata": {},
   "source": [
    "### Featurisation year and month columns "
   ]
  },
  {
   "cell_type": "code",
   "execution_count": 31,
   "metadata": {},
   "outputs": [],
   "source": [
    "df['funny']=df['funny'].apply(lambda x:'funny' if x <= 4 else 'not funny')"
   ]
  },
  {
   "cell_type": "code",
   "execution_count": 32,
   "metadata": {},
   "outputs": [
    {
     "data": {
      "text/plain": [
       "funny        9680\n",
       "not funny     320\n",
       "Name: funny, dtype: int64"
      ]
     },
     "execution_count": 32,
     "metadata": {},
     "output_type": "execute_result"
    }
   ],
   "source": [
    "df['funny'].value_counts()"
   ]
  },
  {
   "cell_type": "code",
   "execution_count": 33,
   "metadata": {},
   "outputs": [],
   "source": [
    "df['cool']=df['cool'].apply(lambda x:'cool' if x <= 4 else 'not cool')"
   ]
  },
  {
   "cell_type": "code",
   "execution_count": 34,
   "metadata": {},
   "outputs": [
    {
     "data": {
      "text/plain": [
       "cool        9599\n",
       "not cool     401\n",
       "Name: cool, dtype: int64"
      ]
     },
     "execution_count": 34,
     "metadata": {},
     "output_type": "execute_result"
    }
   ],
   "source": [
    "df['cool'].value_counts()"
   ]
  },
  {
   "cell_type": "code",
   "execution_count": 35,
   "metadata": {},
   "outputs": [],
   "source": [
    "df['useful']=df['useful'].apply(lambda x:'useful' if x <= 4 else 'nouseful')"
   ]
  },
  {
   "cell_type": "code",
   "execution_count": 36,
   "metadata": {},
   "outputs": [
    {
     "data": {
      "text/plain": [
       "useful      9347\n",
       "nouseful     653\n",
       "Name: useful, dtype: int64"
      ]
     },
     "execution_count": 36,
     "metadata": {},
     "output_type": "execute_result"
    }
   ],
   "source": [
    "df['useful'].value_counts()"
   ]
  },
  {
   "cell_type": "code",
   "execution_count": 37,
   "metadata": {},
   "outputs": [
    {
     "data": {
      "text/html": [
       "<div>\n",
       "<style scoped>\n",
       "    .dataframe tbody tr th:only-of-type {\n",
       "        vertical-align: middle;\n",
       "    }\n",
       "\n",
       "    .dataframe tbody tr th {\n",
       "        vertical-align: top;\n",
       "    }\n",
       "\n",
       "    .dataframe thead th {\n",
       "        text-align: right;\n",
       "    }\n",
       "</style>\n",
       "<table border=\"1\" class=\"dataframe\">\n",
       "  <thead>\n",
       "    <tr style=\"text-align: right;\">\n",
       "      <th></th>\n",
       "      <th>stars</th>\n",
       "      <th>text</th>\n",
       "      <th>cool</th>\n",
       "      <th>useful</th>\n",
       "      <th>funny</th>\n",
       "      <th>month</th>\n",
       "      <th>year</th>\n",
       "    </tr>\n",
       "  </thead>\n",
       "  <tbody>\n",
       "    <tr>\n",
       "      <th>0</th>\n",
       "      <td>5</td>\n",
       "      <td>My wife took me here on my birthday for breakf...</td>\n",
       "      <td>cool</td>\n",
       "      <td>nouseful</td>\n",
       "      <td>funny</td>\n",
       "      <td>winter</td>\n",
       "      <td>new</td>\n",
       "    </tr>\n",
       "    <tr>\n",
       "      <th>1</th>\n",
       "      <td>5</td>\n",
       "      <td>I have no idea why some people give bad review...</td>\n",
       "      <td>cool</td>\n",
       "      <td>useful</td>\n",
       "      <td>funny</td>\n",
       "      <td>summer</td>\n",
       "      <td>new</td>\n",
       "    </tr>\n",
       "    <tr>\n",
       "      <th>2</th>\n",
       "      <td>4</td>\n",
       "      <td>love the gyro plate. Rice is so good and I als...</td>\n",
       "      <td>cool</td>\n",
       "      <td>useful</td>\n",
       "      <td>funny</td>\n",
       "      <td>summer</td>\n",
       "      <td>new</td>\n",
       "    </tr>\n",
       "    <tr>\n",
       "      <th>3</th>\n",
       "      <td>5</td>\n",
       "      <td>Rosie, Dakota, and I LOVE Chaparral Dog Park!!...</td>\n",
       "      <td>cool</td>\n",
       "      <td>useful</td>\n",
       "      <td>funny</td>\n",
       "      <td>summer</td>\n",
       "      <td>new</td>\n",
       "    </tr>\n",
       "  </tbody>\n",
       "</table>\n",
       "</div>"
      ],
      "text/plain": [
       "   stars                                               text  cool    useful  \\\n",
       "0      5  My wife took me here on my birthday for breakf...  cool  nouseful   \n",
       "1      5  I have no idea why some people give bad review...  cool    useful   \n",
       "2      4  love the gyro plate. Rice is so good and I als...  cool    useful   \n",
       "3      5  Rosie, Dakota, and I LOVE Chaparral Dog Park!!...  cool    useful   \n",
       "\n",
       "   funny   month year  \n",
       "0  funny  winter  new  \n",
       "1  funny  summer  new  \n",
       "2  funny  summer  new  \n",
       "3  funny  summer  new  "
      ]
     },
     "execution_count": 37,
     "metadata": {},
     "output_type": "execute_result"
    }
   ],
   "source": [
    "df.head(4)"
   ]
  },
  {
   "cell_type": "markdown",
   "metadata": {},
   "source": [
    "### Combining columns text,cool,useful,funny,month,year into a single column"
   ]
  },
  {
   "cell_type": "code",
   "execution_count": 38,
   "metadata": {},
   "outputs": [],
   "source": [
    "df['combined_text'] =df['text']+df['cool']+' '+df['useful']+' '+df['funny']+' '+df['month']+' '+df['year']"
   ]
  },
  {
   "cell_type": "code",
   "execution_count": 39,
   "metadata": {},
   "outputs": [
    {
     "data": {
      "text/plain": [
       "'My wife took me here on my birthday for breakfast and it was excellent.  The weather was perfect which made sitting outside overlooking their grounds an absolute pleasure.  Our waitress was excellent and our food arrived quickly on the semi-busy Saturday morning.  It looked like the place fills up pretty quickly so the earlier you get here the better.\\n\\nDo yourself a favor and get their Bloody Mary.  It was phenomenal and simply the best I\\'ve ever had.  I\\'m pretty sure they only use ingredients from their garden and blend them fresh when you order it.  It was amazing.\\n\\nWhile EVERYTHING on the menu looks excellent, I had the white truffle scrambled eggs vegetable skillet and it was tasty and delicious.  It came with 2 pieces of their griddled bread with was amazing and it absolutely made the meal complete.  It was the best \"toast\" I\\'ve ever had.\\n\\nAnyway, I can\\'t wait to go back!cool nouseful funny winter new'"
      ]
     },
     "execution_count": 39,
     "metadata": {},
     "output_type": "execute_result"
    }
   ],
   "source": [
    "df['combined_text'][0]"
   ]
  },
  {
   "cell_type": "markdown",
   "metadata": {},
   "source": [
    "### Cleaning the text data"
   ]
  },
  {
   "cell_type": "markdown",
   "metadata": {},
   "source": [
    "##### removing punctuation,tokenzing,removing  stopwords,lemmatizing"
   ]
  },
  {
   "cell_type": "code",
   "execution_count": 40,
   "metadata": {},
   "outputs": [],
   "source": [
    "punc = string.punctuation\n",
    "stop_words = nltk.corpus.stopwords.words('english')\n",
    "lemmatizer_wn = nltk.WordNetLemmatizer()\n",
    "def cleaning(text):\n",
    "    no_punc = \"\".join([words for words in text if words not in punc])\n",
    "    tokenized_text = re.split('\\W+',no_punc)\n",
    "    no_sw = [words.lower() for words in tokenized_text if words not in stop_words]\n",
    "    cleaned_text = \" \".join([lemmatizer_wn.lemmatize(words) for words in no_sw])\n",
    "    return cleaned_text"
   ]
  },
  {
   "cell_type": "code",
   "execution_count": 41,
   "metadata": {},
   "outputs": [],
   "source": [
    "df['cleaned_text']=df['combined_text'].apply(lambda x:cleaning(x))"
   ]
  },
  {
   "cell_type": "code",
   "execution_count": 42,
   "metadata": {},
   "outputs": [
    {
     "data": {
      "text/plain": [
       "'my wife took birthday breakfast excellent the weather perfect made sitting outside overlooking ground absolute pleasure our waitress excellent food arrived quickly semibusy saturday morning it looked like place fill pretty quickly earlier get better do favor get bloody mary it phenomenal simply best ive ever im pretty sure use ingredient garden blend fresh order it amazing while everything menu look excellent i white truffle scrambled egg vegetable skillet tasty delicious it came 2 piece griddled bread amazing absolutely made meal complete it best toast ive ever anyway i cant wait go backcool nouseful funny winter new'"
      ]
     },
     "execution_count": 42,
     "metadata": {},
     "output_type": "execute_result"
    }
   ],
   "source": [
    "df['cleaned_text'][0]"
   ]
  },
  {
   "cell_type": "code",
   "execution_count": 43,
   "metadata": {},
   "outputs": [
    {
     "data": {
      "text/plain": [
       "'My wife took me here on my birthday for breakfast and it was excellent.  The weather was perfect which made sitting outside overlooking their grounds an absolute pleasure.  Our waitress was excellent and our food arrived quickly on the semi-busy Saturday morning.  It looked like the place fills up pretty quickly so the earlier you get here the better.\\n\\nDo yourself a favor and get their Bloody Mary.  It was phenomenal and simply the best I\\'ve ever had.  I\\'m pretty sure they only use ingredients from their garden and blend them fresh when you order it.  It was amazing.\\n\\nWhile EVERYTHING on the menu looks excellent, I had the white truffle scrambled eggs vegetable skillet and it was tasty and delicious.  It came with 2 pieces of their griddled bread with was amazing and it absolutely made the meal complete.  It was the best \"toast\" I\\'ve ever had.\\n\\nAnyway, I can\\'t wait to go back!'"
      ]
     },
     "execution_count": 43,
     "metadata": {},
     "output_type": "execute_result"
    }
   ],
   "source": [
    "df['text'][0]"
   ]
  },
  {
   "cell_type": "markdown",
   "metadata": {},
   "source": [
    "### Converting text to vector"
   ]
  },
  {
   "cell_type": "code",
   "execution_count": 44,
   "metadata": {},
   "outputs": [],
   "source": [
    "vect = CountVectorizer(min_df=17, ngram_range=(1, 2))"
   ]
  },
  {
   "cell_type": "code",
   "execution_count": 45,
   "metadata": {},
   "outputs": [],
   "source": [
    "converted_text=vect.fit_transform(df['cleaned_text'])"
   ]
  },
  {
   "cell_type": "code",
   "execution_count": 46,
   "metadata": {},
   "outputs": [
    {
     "data": {
      "text/plain": [
       "['10',\n",
       " '10 minute',\n",
       " '10 year',\n",
       " '100',\n",
       " '1000',\n",
       " '101',\n",
       " '1015',\n",
       " '11',\n",
       " '110',\n",
       " '11am',\n",
       " '12',\n",
       " '13',\n",
       " '14',\n",
       " '15',\n",
       " '15 minute',\n",
       " '150',\n",
       " '1520',\n",
       " '16',\n",
       " '17',\n",
       " '18',\n",
       " '1st',\n",
       " '20',\n",
       " '20 minute',\n",
       " '20 year',\n",
       " '200',\n",
       " '2010',\n",
       " '21',\n",
       " '22',\n",
       " '23',\n",
       " '24',\n",
       " '24 hour',\n",
       " '25',\n",
       " '250',\n",
       " '2nd',\n",
       " '30',\n",
       " '30 min',\n",
       " '30 minute',\n",
       " '300',\n",
       " '32',\n",
       " '34',\n",
       " '35',\n",
       " '35 star',\n",
       " '3rd',\n",
       " '40',\n",
       " '400',\n",
       " '45',\n",
       " '45 minute',\n",
       " '4pm',\n",
       " '4th',\n",
       " '50',\n",
       " '500',\n",
       " '55',\n",
       " '5pm',\n",
       " '5th',\n",
       " '60',\n",
       " '6pm',\n",
       " '70',\n",
       " '700',\n",
       " '75',\n",
       " '7pm',\n",
       " '7th',\n",
       " '80',\n",
       " '8pm',\n",
       " '90',\n",
       " '930',\n",
       " '99',\n",
       " 'ability',\n",
       " 'able',\n",
       " 'able get',\n",
       " 'about',\n",
       " 'absolute',\n",
       " 'absolutely',\n",
       " 'absolutely amazing',\n",
       " 'absolutely delicious',\n",
       " 'absolutely love',\n",
       " 'ac',\n",
       " 'accent',\n",
       " 'accept',\n",
       " 'acceptable',\n",
       " 'access',\n",
       " 'accessible',\n",
       " 'accessory',\n",
       " 'accident',\n",
       " 'accommodate',\n",
       " 'accommodating',\n",
       " 'accomodating',\n",
       " 'accompanied',\n",
       " 'accompanying',\n",
       " 'according',\n",
       " 'account',\n",
       " 'acknowledge',\n",
       " 'acoustic',\n",
       " 'across',\n",
       " 'across street',\n",
       " 'act',\n",
       " 'action',\n",
       " 'active',\n",
       " 'activity',\n",
       " 'actual',\n",
       " 'actually',\n",
       " 'actually pretty',\n",
       " 'actually really',\n",
       " 'add',\n",
       " 'added',\n",
       " 'addicted',\n",
       " 'addictive',\n",
       " 'adding',\n",
       " 'addition',\n",
       " 'additional',\n",
       " 'address',\n",
       " 'adequate',\n",
       " 'admit',\n",
       " 'adorable',\n",
       " 'adore',\n",
       " 'adult',\n",
       " 'advance',\n",
       " 'advantage',\n",
       " 'adventure',\n",
       " 'adventurous',\n",
       " 'advice',\n",
       " 'afford',\n",
       " 'affordable',\n",
       " 'afraid',\n",
       " 'after',\n",
       " 'after reading',\n",
       " 'afternoon',\n",
       " 'afterwards',\n",
       " 'again',\n",
       " 'againcool',\n",
       " 'againcool useful',\n",
       " 'age',\n",
       " 'ago',\n",
       " 'agree',\n",
       " 'agreed',\n",
       " 'ah',\n",
       " 'ahead',\n",
       " 'ahi',\n",
       " 'ahi tuna',\n",
       " 'ahwatukee',\n",
       " 'aint',\n",
       " 'aioli',\n",
       " 'air',\n",
       " 'airline',\n",
       " 'airport',\n",
       " 'airy',\n",
       " 'aisle',\n",
       " 'ajs',\n",
       " 'aka',\n",
       " 'al',\n",
       " 'ala',\n",
       " 'albeit',\n",
       " 'alcohol',\n",
       " 'ale',\n",
       " 'alfredo',\n",
       " 'all',\n",
       " 'all food',\n",
       " 'all good',\n",
       " 'all say',\n",
       " 'allcool',\n",
       " 'allcool useful',\n",
       " 'allergy',\n",
       " 'alley',\n",
       " 'allow',\n",
       " 'allowed',\n",
       " 'allowing',\n",
       " 'allows',\n",
       " 'almond',\n",
       " 'almost',\n",
       " 'almost always',\n",
       " 'almost every',\n",
       " 'almost like',\n",
       " 'alone',\n",
       " 'along',\n",
       " 'alot',\n",
       " 'already',\n",
       " 'alright',\n",
       " 'also',\n",
       " 'also delicious',\n",
       " 'also get',\n",
       " 'also good',\n",
       " 'also got',\n",
       " 'also great',\n",
       " 'also like',\n",
       " 'also love',\n",
       " 'also make',\n",
       " 'also offer',\n",
       " 'also ordered',\n",
       " 'also pretty',\n",
       " 'also really',\n",
       " 'also tried',\n",
       " 'alternative',\n",
       " 'although',\n",
       " 'always',\n",
       " 'always busy',\n",
       " 'always clean',\n",
       " 'always find',\n",
       " 'always fresh',\n",
       " 'always friendly',\n",
       " 'always get',\n",
       " 'always go',\n",
       " 'always good',\n",
       " 'always great',\n",
       " 'always make',\n",
       " 'always nice',\n",
       " 'always order',\n",
       " 'always take',\n",
       " 'am',\n",
       " 'amazed',\n",
       " 'amazing',\n",
       " 'amazing food',\n",
       " 'amazing it',\n",
       " 'amazing the',\n",
       " 'amazingcool',\n",
       " 'amazingcool useful',\n",
       " 'amazingly',\n",
       " 'amber',\n",
       " 'ambiance',\n",
       " 'ambience',\n",
       " 'amc',\n",
       " 'amenity',\n",
       " 'america',\n",
       " 'american',\n",
       " 'americanized',\n",
       " 'among',\n",
       " 'amount',\n",
       " 'amount food',\n",
       " 'amount time',\n",
       " 'ample',\n",
       " 'an',\n",
       " 'and',\n",
       " 'and dont',\n",
       " 'and thats',\n",
       " 'and yes',\n",
       " 'andor',\n",
       " 'angel',\n",
       " 'animal',\n",
       " 'anniversary',\n",
       " 'annoyed',\n",
       " 'annoying',\n",
       " 'another',\n",
       " 'another chance',\n",
       " 'another couple',\n",
       " 'another one',\n",
       " 'another shot',\n",
       " 'another try',\n",
       " 'answer',\n",
       " 'answer question',\n",
       " 'answered',\n",
       " 'any',\n",
       " 'anyhow',\n",
       " 'anymore',\n",
       " 'anyone',\n",
       " 'anything',\n",
       " 'anything else',\n",
       " 'anything like',\n",
       " 'anytime',\n",
       " 'anyway',\n",
       " 'anyways',\n",
       " 'anywhere',\n",
       " 'anywhere else',\n",
       " 'aok',\n",
       " 'apart',\n",
       " 'apartment',\n",
       " 'apologized',\n",
       " 'apology',\n",
       " 'app',\n",
       " 'apparently',\n",
       " 'appeal',\n",
       " 'appealing',\n",
       " 'appear',\n",
       " 'appearance',\n",
       " 'appeared',\n",
       " 'appears',\n",
       " 'appetite',\n",
       " 'appetizer',\n",
       " 'appetizer the',\n",
       " 'apple',\n",
       " 'appointment',\n",
       " 'appreciate',\n",
       " 'appreciated',\n",
       " 'approach',\n",
       " 'approached',\n",
       " 'appropriate',\n",
       " 'apps',\n",
       " 'april',\n",
       " 'arcadia',\n",
       " 'are',\n",
       " 'area',\n",
       " 'area the',\n",
       " 'areacool',\n",
       " 'areacool useful',\n",
       " 'arent',\n",
       " 'arizona',\n",
       " 'arizona the',\n",
       " 'arm',\n",
       " 'aroma',\n",
       " 'around',\n",
       " 'around corner',\n",
       " 'around the',\n",
       " 'around town',\n",
       " 'array',\n",
       " 'arrival',\n",
       " 'arrive',\n",
       " 'arrived',\n",
       " 'arrives',\n",
       " 'arriving',\n",
       " 'art',\n",
       " 'artichoke',\n",
       " 'artichoke dip',\n",
       " 'artist',\n",
       " 'artwork',\n",
       " 'arugula',\n",
       " 'as',\n",
       " 'asada',\n",
       " 'asada burrito',\n",
       " 'asada taco',\n",
       " 'asian',\n",
       " 'asian food',\n",
       " 'aside',\n",
       " 'ask',\n",
       " 'ask extra',\n",
       " 'asked',\n",
       " 'asked could',\n",
       " 'asked server',\n",
       " 'asked wanted',\n",
       " 'asking',\n",
       " 'asks',\n",
       " 'asparagus',\n",
       " 'aspect',\n",
       " 'associate',\n",
       " 'assortment',\n",
       " 'assume',\n",
       " 'assumed',\n",
       " 'assuming',\n",
       " 'assured',\n",
       " 'asu',\n",
       " 'at',\n",
       " 'at end',\n",
       " 'at first',\n",
       " 'at least',\n",
       " 'at point',\n",
       " 'ate',\n",
       " 'atm',\n",
       " 'atmosphere',\n",
       " 'atmosphere good',\n",
       " 'atmosphere great',\n",
       " 'atmosphere nice',\n",
       " 'atmosphere the',\n",
       " 'attached',\n",
       " 'attempt',\n",
       " 'attend',\n",
       " 'attendant',\n",
       " 'attended',\n",
       " 'attending',\n",
       " 'attention',\n",
       " 'attention detail',\n",
       " 'attentive',\n",
       " 'attentive food',\n",
       " 'attentive friendly',\n",
       " 'attitude',\n",
       " 'au',\n",
       " 'august',\n",
       " 'authentic',\n",
       " 'authentic mexican',\n",
       " 'auto',\n",
       " 'automn',\n",
       " 'automn new',\n",
       " 'automn old',\n",
       " 'available',\n",
       " 'ave',\n",
       " 'avenue',\n",
       " 'average',\n",
       " 'avocado',\n",
       " 'avoid',\n",
       " 'aware',\n",
       " 'away',\n",
       " 'away the',\n",
       " 'awesome',\n",
       " 'awesome food',\n",
       " 'awesome the',\n",
       " 'awesomecool',\n",
       " 'awesomecool useful',\n",
       " 'awful',\n",
       " 'awhile',\n",
       " 'awkward',\n",
       " 'az',\n",
       " 'baby',\n",
       " 'back',\n",
       " 'back againcool',\n",
       " 'back another',\n",
       " 'back get',\n",
       " 'back home',\n",
       " 'back next',\n",
       " 'back room',\n",
       " 'back soon',\n",
       " 'back sooncool',\n",
       " 'back the',\n",
       " 'back time',\n",
       " 'back try',\n",
       " 'backcool',\n",
       " 'backcool useful',\n",
       " 'background',\n",
       " 'bacon',\n",
       " 'bad',\n",
       " 'bad day',\n",
       " 'bad experience',\n",
       " 'bad meal',\n",
       " 'bad place',\n",
       " 'bad review',\n",
       " 'bad service',\n",
       " 'bad the',\n",
       " 'bad thing',\n",
       " 'bag',\n",
       " 'bagel',\n",
       " 'baguette',\n",
       " 'baja',\n",
       " 'bake',\n",
       " 'baked',\n",
       " 'baked good',\n",
       " 'bakery',\n",
       " 'balance',\n",
       " 'balanced',\n",
       " 'balcony',\n",
       " 'ball',\n",
       " 'balsamic',\n",
       " 'banana',\n",
       " 'band',\n",
       " 'bang',\n",
       " 'bank',\n",
       " 'bar',\n",
       " 'bar area',\n",
       " 'bar food',\n",
       " 'bar great',\n",
       " 'bar it',\n",
       " 'bar restaurant',\n",
       " 'bar the',\n",
       " 'barbecue',\n",
       " 'barcool',\n",
       " 'barcool useful',\n",
       " 'bare',\n",
       " 'barely',\n",
       " 'bargain',\n",
       " 'bartender',\n",
       " 'base',\n",
       " 'baseball',\n",
       " 'based',\n",
       " 'basic',\n",
       " 'basically',\n",
       " 'basil',\n",
       " 'basis',\n",
       " 'basket',\n",
       " 'basketball',\n",
       " 'bass',\n",
       " 'bath',\n",
       " 'bathroom',\n",
       " 'batter',\n",
       " 'battered',\n",
       " 'bay',\n",
       " 'bay area',\n",
       " 'bbq',\n",
       " 'bbq chicken',\n",
       " 'bbq pork',\n",
       " 'bbq sauce',\n",
       " 'bc',\n",
       " 'be',\n",
       " 'be sure',\n",
       " 'beach',\n",
       " 'bean',\n",
       " 'bean cheese',\n",
       " 'bean rice',\n",
       " 'bear',\n",
       " 'beat',\n",
       " 'beautiful',\n",
       " 'beautifully',\n",
       " 'beauty',\n",
       " 'became',\n",
       " 'because',\n",
       " 'become',\n",
       " 'becomes',\n",
       " 'becoming',\n",
       " 'bed',\n",
       " 'bedroom',\n",
       " 'beef',\n",
       " 'beef sandwich',\n",
       " 'beef taco',\n",
       " 'been',\n",
       " 'beer',\n",
       " 'beer good',\n",
       " 'beer great',\n",
       " 'beer list',\n",
       " 'beer selection',\n",
       " 'beer tap',\n",
       " 'beer wine',\n",
       " 'beet',\n",
       " 'before',\n",
       " 'began',\n",
       " 'begin',\n",
       " 'beginning',\n",
       " 'behind',\n",
       " 'behind bar',\n",
       " 'behind counter',\n",
       " 'being',\n",
       " 'believe',\n",
       " 'bell',\n",
       " 'bell pepper',\n",
       " 'belly',\n",
       " 'belt',\n",
       " 'bench',\n",
       " 'benedict',\n",
       " 'benefit',\n",
       " 'berry',\n",
       " 'besides',\n",
       " 'best',\n",
       " 'best breakfast',\n",
       " 'best burger',\n",
       " 'best ever',\n",
       " 'best food',\n",
       " 'best friend',\n",
       " 'best ive',\n",
       " 'best meal',\n",
       " 'best part',\n",
       " 'best pizza',\n",
       " 'best place',\n",
       " 'best sushi',\n",
       " 'best the',\n",
       " 'best thing',\n",
       " 'best way',\n",
       " 'bestcool',\n",
       " 'bestcool useful',\n",
       " 'bet',\n",
       " 'better',\n",
       " 'better average',\n",
       " 'better food',\n",
       " 'better place',\n",
       " 'better service',\n",
       " 'better the',\n",
       " 'bettercool',\n",
       " 'bettercool useful',\n",
       " 'between',\n",
       " 'beverage',\n",
       " 'beware',\n",
       " 'beyond',\n",
       " 'bf',\n",
       " 'bianco',\n",
       " 'big',\n",
       " 'big deal',\n",
       " 'big enough',\n",
       " 'big fan',\n",
       " 'big plus',\n",
       " 'bigger',\n",
       " 'biggest',\n",
       " 'bike',\n",
       " 'bill',\n",
       " 'biltmore',\n",
       " 'bird',\n",
       " 'birthday',\n",
       " 'birthday party',\n",
       " 'biscuit',\n",
       " 'biscuit gravy',\n",
       " 'bistro',\n",
       " 'bit',\n",
       " 'bit dry',\n",
       " 'bit like',\n",
       " 'bit pricey',\n",
       " 'bitch',\n",
       " 'bite',\n",
       " 'bite eat',\n",
       " 'bitter',\n",
       " 'black',\n",
       " 'black bean',\n",
       " 'blackberry',\n",
       " 'blah',\n",
       " 'blame',\n",
       " 'blanco',\n",
       " 'bland',\n",
       " 'blast',\n",
       " 'blend',\n",
       " 'blended',\n",
       " 'bleu',\n",
       " 'blew',\n",
       " 'bliss',\n",
       " 'block',\n",
       " 'blonde',\n",
       " 'blood',\n",
       " 'bloody',\n",
       " 'bloody mary',\n",
       " 'blossom',\n",
       " 'blow',\n",
       " 'blown',\n",
       " 'blown away',\n",
       " 'blt',\n",
       " 'blue',\n",
       " 'blue cheese',\n",
       " 'blueberry',\n",
       " 'board',\n",
       " 'boat',\n",
       " 'boba',\n",
       " 'bobby',\n",
       " 'body',\n",
       " 'boiled',\n",
       " 'bold',\n",
       " 'bomb',\n",
       " 'bone',\n",
       " 'boneless',\n",
       " 'bonus',\n",
       " 'book',\n",
       " 'booked',\n",
       " 'boot',\n",
       " 'booth',\n",
       " 'booze',\n",
       " 'border',\n",
       " 'bored',\n",
       " 'boring',\n",
       " 'boston',\n",
       " 'both',\n",
       " 'bother',\n",
       " 'bothered',\n",
       " 'bottle',\n",
       " 'bottle wine',\n",
       " 'bottled',\n",
       " 'bottom',\n",
       " 'bottom line',\n",
       " 'bought',\n",
       " 'bouncer',\n",
       " 'bourbon',\n",
       " 'boutique',\n",
       " 'bowl',\n",
       " 'box',\n",
       " 'boy',\n",
       " 'boyfriend',\n",
       " 'braised',\n",
       " 'branch',\n",
       " 'brand',\n",
       " 'brand new',\n",
       " 'bread',\n",
       " 'bread pudding',\n",
       " 'bread the',\n",
       " 'breaded',\n",
       " 'breading',\n",
       " 'break',\n",
       " 'breakfast',\n",
       " 'breakfast burrito',\n",
       " 'breakfast lunch',\n",
       " 'breakfast place',\n",
       " 'breakfast the',\n",
       " 'breaking',\n",
       " 'breast',\n",
       " 'breath',\n",
       " 'breeze',\n",
       " 'brew',\n",
       " 'brewery',\n",
       " 'brick',\n",
       " 'brie',\n",
       " 'bright',\n",
       " 'bring',\n",
       " 'bring food',\n",
       " 'bring friend',\n",
       " 'bringing',\n",
       " 'brings',\n",
       " 'brisket',\n",
       " 'broccoli',\n",
       " 'broke',\n",
       " 'broken',\n",
       " 'broth',\n",
       " 'brother',\n",
       " 'brought',\n",
       " 'brought back',\n",
       " 'brown',\n",
       " 'brown rice',\n",
       " 'brownie',\n",
       " 'browse',\n",
       " 'brulee',\n",
       " 'brunch',\n",
       " 'bruschetta',\n",
       " 'btw',\n",
       " 'buck',\n",
       " 'bucket',\n",
       " 'bud',\n",
       " 'buddy',\n",
       " 'budget',\n",
       " 'buffalo',\n",
       " 'buffalo chicken',\n",
       " 'buffet',\n",
       " 'bug',\n",
       " 'build',\n",
       " 'building',\n",
       " 'built',\n",
       " 'bulk',\n",
       " 'bull',\n",
       " 'bummed',\n",
       " 'bummer',\n",
       " 'bun',\n",
       " 'bunch',\n",
       " 'burger',\n",
       " 'burger fry',\n",
       " 'burger good',\n",
       " 'burger joint',\n",
       " 'burger place',\n",
       " 'burn',\n",
       " 'burned',\n",
       " 'burning',\n",
       " 'burnt',\n",
       " 'burrito',\n",
       " 'burro',\n",
       " 'bus',\n",
       " 'business',\n",
       " 'business trip',\n",
       " 'businesscool',\n",
       " 'businesscool useful',\n",
       " 'busy',\n",
       " 'but',\n",
       " 'but dont',\n",
       " 'but food',\n",
       " 'but really',\n",
       " 'butt',\n",
       " 'butter',\n",
       " 'buttermilk',\n",
       " 'buttery',\n",
       " 'button',\n",
       " 'buy',\n",
       " 'buying',\n",
       " 'buzz',\n",
       " 'by',\n",
       " 'by far',\n",
       " 'by time',\n",
       " 'ca',\n",
       " 'cab',\n",
       " 'cabbage',\n",
       " 'cactus',\n",
       " 'caesar',\n",
       " 'caesar salad',\n",
       " 'cafe',\n",
       " 'cafeteria',\n",
       " 'cajun',\n",
       " 'cake',\n",
       " 'calamari',\n",
       " 'california',\n",
       " 'california roll',\n",
       " 'call',\n",
       " 'call ahead',\n",
       " 'call back',\n",
       " 'called',\n",
       " 'calling',\n",
       " 'calm',\n",
       " 'calorie',\n",
       " 'calzone',\n",
       " 'came',\n",
       " 'came back',\n",
       " 'came quickly',\n",
       " 'came table',\n",
       " 'camelback',\n",
       " 'camera',\n",
       " 'campus',\n",
       " 'can',\n",
       " 'candle',\n",
       " 'candy',\n",
       " 'canned',\n",
       " 'cannot',\n",
       " 'cant',\n",
       " 'cant beat',\n",
       " 'cant believe',\n",
       " 'cant even',\n",
       " 'cant find',\n",
       " 'cant get',\n",
       " 'cant go',\n",
       " 'cant help',\n",
       " 'cant really',\n",
       " 'cant remember',\n",
       " 'cant say',\n",
       " 'cant speak',\n",
       " 'cant wait',\n",
       " 'canyon',\n",
       " 'cap',\n",
       " 'cappuccino',\n",
       " 'caprese',\n",
       " 'car',\n",
       " 'car wash',\n",
       " 'caramel',\n",
       " 'caramelized',\n",
       " 'caramelized onion',\n",
       " 'card',\n",
       " 'cardinal',\n",
       " 'care',\n",
       " 'cared',\n",
       " 'careful',\n",
       " 'caring',\n",
       " 'carne',\n",
       " 'carne asada',\n",
       " 'carnitas',\n",
       " 'carrot',\n",
       " 'carry',\n",
       " 'carrying',\n",
       " 'cart',\n",
       " 'casa',\n",
       " 'case',\n",
       " 'cash',\n",
       " 'cashier',\n",
       " 'casual',\n",
       " 'cat',\n",
       " 'catch',\n",
       " 'category',\n",
       " 'catering',\n",
       " 'caught',\n",
       " 'cause',\n",
       " 'cave',\n",
       " 'ceiling',\n",
       " 'celebrate',\n",
       " 'celebrating',\n",
       " 'celebration',\n",
       " 'celery',\n",
       " 'cell',\n",
       " 'cell phone',\n",
       " 'cent',\n",
       " 'center',\n",
       " 'central',\n",
       " 'central phoenix',\n",
       " 'certain',\n",
       " 'certainly',\n",
       " 'certificate',\n",
       " 'ceviche',\n",
       " 'chai',\n",
       " 'chain',\n",
       " 'chain restaurant',\n",
       " 'chair',\n",
       " 'challenge',\n",
       " 'challenging',\n",
       " 'champagne',\n",
       " 'chance',\n",
       " 'chance try',\n",
       " 'chandler',\n",
       " 'chang',\n",
       " 'change',\n",
       " 'changed',\n",
       " 'changing',\n",
       " 'char',\n",
       " 'character',\n",
       " 'charge',\n",
       " 'charged',\n",
       " 'charging',\n",
       " 'charm',\n",
       " 'charming',\n",
       " 'charred',\n",
       " 'chat',\n",
       " 'chatted',\n",
       " 'chatting',\n",
       " 'cheap',\n",
       " 'cheaper',\n",
       " 'cheapest',\n",
       " 'check',\n",
       " 'check outcool',\n",
       " 'check place',\n",
       " 'checked',\n",
       " 'checking',\n",
       " 'checkout',\n",
       " 'cheddar',\n",
       " 'cheer',\n",
       " 'cheese',\n",
       " 'cheese crisp',\n",
       " 'cheese enchilada',\n",
       " 'cheese it',\n",
       " 'cheese pizza',\n",
       " 'cheese plate',\n",
       " 'cheese the',\n",
       " 'cheese tomato',\n",
       " 'cheeseburger',\n",
       " 'cheesecake',\n",
       " 'cheesesteak',\n",
       " 'cheesy',\n",
       " 'chef',\n",
       " 'cherry',\n",
       " 'chewy',\n",
       " 'chic',\n",
       " 'chicago',\n",
       " 'chick',\n",
       " 'chicken',\n",
       " 'chicken beef',\n",
       " 'chicken breast',\n",
       " 'chicken fried',\n",
       " 'chicken good',\n",
       " 'chicken salad',\n",
       " 'chicken sandwich',\n",
       " 'chicken taco',\n",
       " 'chicken tender',\n",
       " 'chicken the',\n",
       " 'chicken waffle',\n",
       " 'chicken wing',\n",
       " 'child',\n",
       " 'childhood',\n",
       " 'chile',\n",
       " 'chili',\n",
       " 'chill',\n",
       " 'chilled',\n",
       " 'chilly',\n",
       " 'chimichanga',\n",
       " 'china',\n",
       " 'chinese',\n",
       " 'chinese food',\n",
       " 'chinese restaurant',\n",
       " 'chip',\n",
       " 'chip salsa',\n",
       " 'chipotle',\n",
       " 'chocolate',\n",
       " 'chocolate cake',\n",
       " 'chocolate chip',\n",
       " 'choice',\n",
       " 'choice the',\n",
       " 'choose',\n",
       " 'choosing',\n",
       " 'chop',\n",
       " 'chopped',\n",
       " 'chopped salad',\n",
       " 'chorizo',\n",
       " 'chose',\n",
       " 'chow',\n",
       " 'chris',\n",
       " 'christmas',\n",
       " 'chunk',\n",
       " 'church',\n",
       " 'cibo',\n",
       " 'cider',\n",
       " 'cilantro',\n",
       " 'cinnamon',\n",
       " 'circle',\n",
       " 'citizen',\n",
       " 'city',\n",
       " 'claim',\n",
       " 'claimed',\n",
       " 'clam',\n",
       " 'class',\n",
       " 'classic',\n",
       " 'classy',\n",
       " 'clean',\n",
       " 'clean staff',\n",
       " 'clean the',\n",
       " 'clean well',\n",
       " 'cleaned',\n",
       " 'cleaner',\n",
       " 'cleaning',\n",
       " 'cleanliness',\n",
       " 'clear',\n",
       " 'cleared',\n",
       " 'clearly',\n",
       " 'clerk',\n",
       " 'client',\n",
       " 'clientele',\n",
       " 'close',\n",
       " 'close house',\n",
       " 'closed',\n",
       " 'closer',\n",
       " 'closest',\n",
       " 'closet',\n",
       " 'closing',\n",
       " 'clothes',\n",
       " 'clothing',\n",
       " 'club',\n",
       " 'clue',\n",
       " 'co',\n",
       " 'coast',\n",
       " 'cocktail',\n",
       " 'coconut',\n",
       " 'code',\n",
       " 'coffee',\n",
       " 'coffee shop',\n",
       " 'coke',\n",
       " 'cold',\n",
       " 'cole',\n",
       " 'cole slaw',\n",
       " 'coleslaw',\n",
       " 'collection',\n",
       " 'college',\n",
       " 'college student',\n",
       " 'color',\n",
       " 'colored',\n",
       " 'combination',\n",
       " 'combine',\n",
       " 'combined',\n",
       " 'combo',\n",
       " 'come',\n",
       " 'come back',\n",
       " 'comfort',\n",
       " 'comfort food',\n",
       " 'comfortable',\n",
       " 'comfy',\n",
       " 'coming',\n",
       " 'coming back',\n",
       " 'comment',\n",
       " 'commented',\n",
       " 'common',\n",
       " 'community',\n",
       " 'companion',\n",
       " 'company',\n",
       " 'comparable',\n",
       " 'compare',\n",
       " 'compared',\n",
       " 'comparison',\n",
       " 'comped',\n",
       " 'competent',\n",
       " 'competition',\n",
       " 'complain',\n",
       " 'complained',\n",
       " ...]"
      ]
     },
     "execution_count": 46,
     "metadata": {},
     "output_type": "execute_result"
    }
   ],
   "source": [
    "vect.get_feature_names()"
   ]
  },
  {
   "cell_type": "markdown",
   "metadata": {},
   "source": [
    "###  Splitting of data"
   ]
  },
  {
   "cell_type": "code",
   "execution_count": 47,
   "metadata": {},
   "outputs": [],
   "source": [
    "X=converted_text\n",
    "y=df['stars']"
   ]
  },
  {
   "cell_type": "code",
   "execution_count": 48,
   "metadata": {},
   "outputs": [],
   "source": [
    "X_train,X_test,Y_train,Y_test = train_test_split(X, y, test_size=0.30, random_state=20)"
   ]
  },
  {
   "cell_type": "markdown",
   "metadata": {},
   "source": [
    "### Model training"
   ]
  },
  {
   "cell_type": "code",
   "execution_count": 49,
   "metadata": {},
   "outputs": [
    {
     "data": {
      "text/plain": [
       "MultinomialNB(alpha=1, class_prior=None, fit_prior=True)"
      ]
     },
     "execution_count": 49,
     "metadata": {},
     "output_type": "execute_result"
    }
   ],
   "source": [
    "model=MultinomialNB(alpha=1)\n",
    "# model = RandomForestRegressor()\n",
    "model.fit(X_train,Y_train)"
   ]
  },
  {
   "cell_type": "markdown",
   "metadata": {},
   "source": [
    "### Predictions"
   ]
  },
  {
   "cell_type": "code",
   "execution_count": 50,
   "metadata": {},
   "outputs": [],
   "source": [
    "predictions=model.predict(X_test)"
   ]
  },
  {
   "cell_type": "code",
   "execution_count": 51,
   "metadata": {},
   "outputs": [
    {
     "data": {
      "text/plain": [
       "array([4, 4, 4, ..., 4, 3, 2], dtype=int64)"
      ]
     },
     "execution_count": 51,
     "metadata": {},
     "output_type": "execute_result"
    }
   ],
   "source": [
    "predictions"
   ]
  },
  {
   "cell_type": "markdown",
   "metadata": {},
   "source": [
    "### COnfusion matrix,accuracy,etc"
   ]
  },
  {
   "cell_type": "code",
   "execution_count": 52,
   "metadata": {},
   "outputs": [
    {
     "data": {
      "text/plain": [
       "array([[126,  34,  10,  12,  35],\n",
       "       [ 75,  81,  75,  38,  29],\n",
       "       [ 21,  51, 145, 175,  54],\n",
       "       [ 22,  33,  91, 568, 299],\n",
       "       [ 26,   8,  29, 294, 669]], dtype=int64)"
      ]
     },
     "execution_count": 52,
     "metadata": {},
     "output_type": "execute_result"
    }
   ],
   "source": [
    "confusion_matrix(Y_test,predictions)"
   ]
  },
  {
   "cell_type": "code",
   "execution_count": 53,
   "metadata": {},
   "outputs": [
    {
     "data": {
      "text/plain": [
       "0.5296666666666666"
      ]
     },
     "execution_count": 53,
     "metadata": {},
     "output_type": "execute_result"
    }
   ],
   "source": [
    "accuracy_score(Y_test,predictions)"
   ]
  },
  {
   "cell_type": "code",
   "execution_count": 67,
   "metadata": {},
   "outputs": [],
   "source": [
    "report=classification_report(Y_test,predictions, labels=[1, 2, 3, 4, 5])"
   ]
  },
  {
   "cell_type": "code",
   "execution_count": 76,
   "metadata": {},
   "outputs": [
    {
     "name": "stdout",
     "output_type": "stream",
     "text": [
      "              precision    recall  f1-score   support\n",
      "\n",
      "           1       0.47      0.58      0.52       217\n",
      "           2       0.39      0.27      0.32       298\n",
      "           3       0.41      0.33      0.36       446\n",
      "           4       0.52      0.56      0.54      1013\n",
      "           5       0.62      0.65      0.63      1026\n",
      "\n",
      "    accuracy                           0.53      3000\n",
      "   macro avg       0.48      0.48      0.48      3000\n",
      "weighted avg       0.52      0.53      0.52      3000\n",
      "\n"
     ]
    }
   ],
   "source": [
    "print(report)"
   ]
  },
  {
   "cell_type": "code",
   "execution_count": null,
   "metadata": {},
   "outputs": [],
   "source": []
  },
  {
   "cell_type": "code",
   "execution_count": null,
   "metadata": {},
   "outputs": [],
   "source": []
  },
  {
   "cell_type": "code",
   "execution_count": null,
   "metadata": {},
   "outputs": [],
   "source": []
  },
  {
   "cell_type": "code",
   "execution_count": null,
   "metadata": {},
   "outputs": [],
   "source": []
  },
  {
   "cell_type": "code",
   "execution_count": null,
   "metadata": {},
   "outputs": [],
   "source": []
  },
  {
   "cell_type": "code",
   "execution_count": null,
   "metadata": {},
   "outputs": [],
   "source": []
  }
 ],
 "metadata": {
  "kernelspec": {
   "display_name": "Python 3",
   "language": "python",
   "name": "python3"
  },
  "language_info": {
   "codemirror_mode": {
    "name": "ipython",
    "version": 3
   },
   "file_extension": ".py",
   "mimetype": "text/x-python",
   "name": "python",
   "nbconvert_exporter": "python",
   "pygments_lexer": "ipython3",
   "version": "3.7.6"
  }
 },
 "nbformat": 4,
 "nbformat_minor": 4
}
